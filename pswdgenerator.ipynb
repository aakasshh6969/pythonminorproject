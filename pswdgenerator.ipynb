{
 "cells": [
  {
   "cell_type": "code",
   "execution_count": 1,
   "id": "60f4e01b-bcec-4b8d-841b-d0e8016e7bd0",
   "metadata": {},
   "outputs": [
    {
     "name": "stdin",
     "output_type": "stream",
     "text": [
      "Enter password length\n",
      " 9\n"
     ]
    },
    {
     "name": "stdout",
     "output_type": "stream",
     "text": [
      "Your password is: \n",
      "Ycqmktd2J\n"
     ]
    }
   ],
   "source": [
    "import string\n",
    "import random\n",
    "s1 = string.ascii_lowercase #(a-z)\n",
    "s2 = string.ascii_uppercase #(A-Z)\n",
    "s3 = string.digits #(0-9)\n",
    "plen = int(input(\"Enter password length\\n\")) \n",
    "s = []\n",
    "s.extend(list(s1))\n",
    "s.extend(list(s2))\n",
    "s.extend(list(s3))\n",
    "print(\"Your password is: \")\n",
    "print(\"\".join(random.sample(s, plen)))"
   ]
  },
  {
   "cell_type": "code",
   "execution_count": null,
   "id": "7d88c455-22e6-4371-95db-6fd7800002d1",
   "metadata": {},
   "outputs": [],
   "source": []
  }
 ],
 "metadata": {
  "kernelspec": {
   "display_name": "Python 3 (ipykernel)",
   "language": "python",
   "name": "python3"
  },
  "language_info": {
   "codemirror_mode": {
    "name": "ipython",
    "version": 3
   },
   "file_extension": ".py",
   "mimetype": "text/x-python",
   "name": "python",
   "nbconvert_exporter": "python",
   "pygments_lexer": "ipython3",
   "version": "3.12.5"
  },
  "widgets": {
   "application/vnd.jupyter.widget-state+json": {
    "state": {},
    "version_major": 2,
    "version_minor": 0
   }
  }
 },
 "nbformat": 4,
 "nbformat_minor": 5
}
